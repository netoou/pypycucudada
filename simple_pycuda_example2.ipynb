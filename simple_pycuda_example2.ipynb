{
 "cells": [
  {
   "cell_type": "code",
   "execution_count": 1,
   "metadata": {},
   "outputs": [
    {
     "name": "stdout",
     "output_type": "stream",
     "text": [
      "(2019, 1, 1)\n"
     ]
    },
    {
     "data": {
      "text/plain": [
       "'\\nAdd two vectors\\n'"
      ]
     },
     "execution_count": 1,
     "metadata": {},
     "output_type": "execute_result"
    }
   ],
   "source": [
    "import pycuda\n",
    "import pycuda.driver as cuda\n",
    "import pycuda.autoinit\n",
    "\n",
    "from pycuda.compiler import SourceModule\n",
    "\n",
    "import numpy as np\n",
    "import time\n",
    "\n",
    "print(pycuda.VERSION)\n",
    "\n",
    "\"\"\"\n",
    "Add two vectors\n",
    "\"\"\""
   ]
  },
  {
   "cell_type": "code",
   "execution_count": 2,
   "metadata": {},
   "outputs": [],
   "source": [
    "# Create a tensor and copy it to gpu memory\n",
    "# Initialize a zero vector\n",
    "a = np.zeros(shape=(64*64,64*64), dtype=np.float32)\n",
    "b = np.ones(shape=(64*64,64*64), dtype=np.float32)\n",
    "# Allocate memory at device\n",
    "a_gpu = cuda.mem_alloc(a.nbytes)\n",
    "b_gpu = cuda.mem_alloc(b.nbytes)\n",
    "# Allocate same size of memory for result vector\n",
    "result_gpu = cuda.mem_alloc(a.nbytes)\n",
    "# Copy the cpu vector to gpu\n",
    "cuda.memcpy_htod(a_gpu, a)\n",
    "cuda.memcpy_htod(b_gpu, b)"
   ]
  },
  {
   "cell_type": "code",
   "execution_count": 3,
   "metadata": {},
   "outputs": [],
   "source": [
    "mod = SourceModule(\"\"\"\n",
    "    __global__ void addTest2D(float *a, float *b, float *res)\n",
    "    {\n",
    "        int blockId = blockIdx.x + blockIdx.y * gridDim.x;\n",
    "        int idx = blockId * (blockDim.x * blockDim.y * blockDim.z)\n",
    "        + (threadIdx.z * (blockDim.x * blockDim.y))\n",
    "        + (threadIdx.y * blockDim.x) + threadIdx.x;\n",
    "        // Add a and b\n",
    "        res[idx] = a[idx] + b[idx];\n",
    "    }\n",
    "\"\"\")"
   ]
  },
  {
   "cell_type": "code",
   "execution_count": 4,
   "metadata": {},
   "outputs": [
    {
     "name": "stdout",
     "output_type": "stream",
     "text": [
      "Time for gpu operation :  0.0005121231079101562\n"
     ]
    }
   ],
   "source": [
    "# Let's compare operating time\n",
    "# GPU\n",
    "startTime = time.time()\n",
    "func = mod.get_function(\"addTest2D\")\n",
    "func(a_gpu, b_gpu, result_gpu, block=(16,16,4), grid =(256,256))\n",
    "consumedTime = time.time() - startTime\n",
    "print(\"Time for gpu operation : \", consumedTime)"
   ]
  },
  {
   "cell_type": "code",
   "execution_count": 5,
   "metadata": {},
   "outputs": [
    {
     "name": "stdout",
     "output_type": "stream",
     "text": [
      "Time for cpu operation :  0.02899312973022461\n"
     ]
    }
   ],
   "source": [
    "# CPU\n",
    "startTime = time.time()\n",
    "result_cpu = a + b\n",
    "consumedTime = time.time() - startTime\n",
    "print(\"Time for cpu operation : \", consumedTime)"
   ]
  },
  {
   "cell_type": "code",
   "execution_count": 6,
   "metadata": {},
   "outputs": [],
   "source": [
    "# Copy the result from device to host\n",
    "result = np.empty_like(a)\n",
    "cuda.memcpy_dtoh(result, result_gpu)\n",
    "a_gpu.free()\n",
    "b_gpu.free()\n",
    "result_gpu.free()"
   ]
  },
  {
   "cell_type": "code",
   "execution_count": 7,
   "metadata": {},
   "outputs": [
    {
     "name": "stdout",
     "output_type": "stream",
     "text": [
      "Is it same? :  True\n"
     ]
    }
   ],
   "source": [
    "# Compare the results\n",
    "print(\"Is it same? : \", (result == result_cpu).all())"
   ]
  },
  {
   "cell_type": "code",
   "execution_count": null,
   "metadata": {},
   "outputs": [],
   "source": []
  }
 ],
 "metadata": {
  "kernelspec": {
   "display_name": "Python 3",
   "language": "python",
   "name": "python3"
  },
  "language_info": {
   "codemirror_mode": {
    "name": "ipython",
    "version": 3
   },
   "file_extension": ".py",
   "mimetype": "text/x-python",
   "name": "python",
   "nbconvert_exporter": "python",
   "pygments_lexer": "ipython3",
   "version": "3.6.8"
  }
 },
 "nbformat": 4,
 "nbformat_minor": 4
}
