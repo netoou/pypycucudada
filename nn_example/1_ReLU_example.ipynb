{
 "cells": [
  {
   "cell_type": "code",
   "execution_count": 1,
   "metadata": {},
   "outputs": [
    {
     "name": "stdout",
     "output_type": "stream",
     "text": [
      "(2019, 1, 1)\n"
     ]
    },
    {
     "data": {
      "text/plain": [
       "'\\nReLU operation\\n'"
      ]
     },
     "execution_count": 1,
     "metadata": {},
     "output_type": "execute_result"
    }
   ],
   "source": [
    "import pycuda\n",
    "import pycuda.driver as cuda\n",
    "import pycuda.autoinit\n",
    "\n",
    "from pycuda.compiler import SourceModule\n",
    "\n",
    "import numpy as np\n",
    "import time\n",
    "\n",
    "print(pycuda.VERSION)\n",
    "\n",
    "\"\"\"\n",
    "ReLU operation\n",
    "\"\"\""
   ]
  },
  {
   "cell_type": "code",
   "execution_count": 2,
   "metadata": {},
   "outputs": [],
   "source": [
    "ROW = np.array(32, dtype=np.int)\n",
    "COL = np.array(32, dtype=np.int)\n",
    "CHANNEL = np.array(4, dtype=np.int)\n",
    "# Sample input tensor\n",
    "a = np.random.normal(size=(CHANNEL,ROW,COL)).astype(np.float32)\n",
    "a_gpu = cuda.mem_alloc(a.nbytes)\n",
    "cuda.memcpy_htod(a_gpu, a)\n",
    "\n",
    "res = np.zeros(shape=(CHANNEL,ROW,COL), dtype=np.float32)\n",
    "#res = np.array((range(4*4*4))).reshape((4,4,4))\n",
    "res_gpu = cuda.mem_alloc(res.nbytes)\n",
    "\n",
    "row_gpu = cuda.mem_alloc(ROW.nbytes)\n",
    "col_gpu = cuda.mem_alloc(COL.nbytes)\n",
    "channel_gpu = cuda.mem_alloc(CHANNEL.nbytes)\n",
    "\n",
    "cuda.memcpy_htod(row_gpu, ROW)\n",
    "cuda.memcpy_htod(col_gpu, COL)\n",
    "cuda.memcpy_htod(channel_gpu, CHANNEL)"
   ]
  },
  {
   "cell_type": "code",
   "execution_count": 3,
   "metadata": {},
   "outputs": [],
   "source": [
    "# passing single integer parameters\n",
    "# initialize it as array then use & on the function\n",
    "#\n",
    "#\n",
    "#\n",
    "#\n",
    "mod = SourceModule(\"\"\"\n",
    "    __global__ void ReLU3D(float *a, float *res, int &row, int &col, int &channel)\n",
    "    {\n",
    "        int xIdx = blockDim.x * blockIdx.x + threadIdx.x;\n",
    "        int yIdx = blockDim.y * blockIdx.y + threadIdx.y;\n",
    "        int zIdx = blockDim.z * blockIdx.z + threadIdx.z;\n",
    "        \n",
    "        int xDim = gridDim.x * blockDim.x;\n",
    "        int yDim = gridDim.y * blockDim.y;\n",
    "        int zDim = gridDim.z * blockDim.z;\n",
    "        \n",
    "        int globalIdx = zIdx * row * col + yIdx * row + xIdx;\n",
    "        \n",
    "        int bid = blockIdx.x + blockIdx.y * gridDim.x;\n",
    "        int tid = bid * (blockDim.x * blockDim.y * blockDim.z)\n",
    "                    + (threadIdx.z * (blockDim.x * blockDim.y))\n",
    "                    + (threadIdx.y * blockDim.x)\n",
    "                    + threadIdx.x;\n",
    "        \n",
    "        if (a[globalIdx] > 0)\n",
    "        {\n",
    "            res[globalIdx] = a[globalIdx];\n",
    "        }\n",
    "        else\n",
    "        {\n",
    "            res[globalIdx] = 0;\n",
    "        }\n",
    "    }\n",
    "\"\"\")"
   ]
  },
  {
   "cell_type": "code",
   "execution_count": 4,
   "metadata": {},
   "outputs": [
    {
     "name": "stdout",
     "output_type": "stream",
     "text": [
      "Time for gpu operation :  0.0004622936248779297\n"
     ]
    }
   ],
   "source": [
    "# GPU\n",
    "startTime = time.time()\n",
    "func = mod.get_function(\"ReLU3D\")\n",
    "func(a_gpu, res_gpu, row_gpu, col_gpu, channel_gpu, block=(16,16,2), grid =(2,2,2))\n",
    "consumedTime = time.time() - startTime\n",
    "print(\"Time for gpu operation : \", consumedTime)"
   ]
  },
  {
   "cell_type": "code",
   "execution_count": 5,
   "metadata": {},
   "outputs": [],
   "source": [
    "# Copy the result from device to host\n",
    "cuda.memcpy_dtoh(res, res_gpu)\n",
    "a_gpu.free()\n",
    "res_gpu.free()"
   ]
  },
  {
   "cell_type": "code",
   "execution_count": 6,
   "metadata": {},
   "outputs": [
    {
     "data": {
      "text/plain": [
       "3.311512"
      ]
     },
     "execution_count": 6,
     "metadata": {},
     "output_type": "execute_result"
    }
   ],
   "source": [
    "a[3].max()"
   ]
  },
  {
   "cell_type": "code",
   "execution_count": 7,
   "metadata": {},
   "outputs": [
    {
     "data": {
      "text/plain": [
       "3.311512"
      ]
     },
     "execution_count": 7,
     "metadata": {},
     "output_type": "execute_result"
    }
   ],
   "source": [
    "res[3].max()"
   ]
  },
  {
   "cell_type": "code",
   "execution_count": null,
   "metadata": {},
   "outputs": [],
   "source": []
  }
 ],
 "metadata": {
  "kernelspec": {
   "display_name": "Python 3",
   "language": "python",
   "name": "python3"
  },
  "language_info": {
   "codemirror_mode": {
    "name": "ipython",
    "version": 3
   },
   "file_extension": ".py",
   "mimetype": "text/x-python",
   "name": "python",
   "nbconvert_exporter": "python",
   "pygments_lexer": "ipython3",
   "version": "3.6.8"
  }
 },
 "nbformat": 4,
 "nbformat_minor": 4
}
