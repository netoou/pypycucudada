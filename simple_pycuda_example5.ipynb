{
 "cells": [
  {
   "cell_type": "code",
   "execution_count": 1,
   "metadata": {},
   "outputs": [
    {
     "name": "stdout",
     "output_type": "stream",
     "text": [
      "(2019, 1, 1)\n"
     ]
    },
    {
     "data": {
      "text/plain": [
       "'\\nMatrix transpose example\\nNxM mat\\n'"
      ]
     },
     "execution_count": 1,
     "metadata": {},
     "output_type": "execute_result"
    }
   ],
   "source": [
    "import pycuda\n",
    "import pycuda.driver as cuda\n",
    "import pycuda.autoinit\n",
    "\n",
    "from pycuda.compiler import SourceModule\n",
    "\n",
    "import numpy as np\n",
    "import time\n",
    "\n",
    "print(pycuda.VERSION)\n",
    "\n",
    "\"\"\"\n",
    "Matrix transpose example\n",
    "NxM mat\n",
    "\"\"\""
   ]
  },
  {
   "cell_type": "code",
   "execution_count": 2,
   "metadata": {},
   "outputs": [],
   "source": [
    "MAT_SIZE = (1024, 64) # row, col\n",
    "RES_SIZE = (MAT_SIZE[1], MAT_SIZE[0])"
   ]
  },
  {
   "cell_type": "code",
   "execution_count": 3,
   "metadata": {},
   "outputs": [],
   "source": [
    "# Create a tensor and copy it to gpu memory\n",
    "# Randomly initialize a vector\n",
    "#a = np.ones(shape=(64*64), dtype=np.float32)\n",
    "a = np.array(range(1024*64), dtype=np.float32).reshape(MAT_SIZE)\n",
    "# Allocate memory at device\n",
    "a_gpu = cuda.mem_alloc(a.nbytes)\n",
    "# Allocate same size of memory for result vector\n",
    "result = np.zeros(shape=RES_SIZE, dtype=np.float32)\n",
    "result_gpu = cuda.mem_alloc(result.nbytes)\n",
    "# Copy the cpu vector to gpu\n",
    "cuda.memcpy_htod(a_gpu, a)\n",
    "# width and height\n",
    "w = np.array([1024], dtype=np.int)\n",
    "h = np.array([1024], dtype=np.int)\n",
    "width = cuda.mem_alloc(w.nbytes)\n",
    "height = cuda.mem_alloc(h.nbytes)\n",
    "\n",
    "cuda.memcpy_htod(width, w)\n",
    "cuda.memcpy_htod(height, h)"
   ]
  },
  {
   "cell_type": "code",
   "execution_count": 4,
   "metadata": {},
   "outputs": [],
   "source": [
    "# Square matrix\n",
    "mod = SourceModule(\"\"\"\n",
    "    __global__ void transpose(float *a, float *res)\n",
    "    {\n",
    "        int width = gridDim.x * blockDim.x;\n",
    "        int height = gridDim.y * blockDim.y;\n",
    "        // original row and column indices\n",
    "        // think row, column instead x,y\n",
    "        int rowIdx = blockDim.x * blockIdx.x + threadIdx.x;\n",
    "        int colIdx = blockDim.y * blockIdx.y + threadIdx.y;\n",
    "        \n",
    "        int tIdx = width * colIdx + rowIdx;\n",
    "        int oIdx = height * rowIdx + colIdx;\n",
    "        res[tIdx] = a[oIdx];\n",
    "    }\n",
    "\"\"\")"
   ]
  },
  {
   "cell_type": "code",
   "execution_count": 5,
   "metadata": {},
   "outputs": [
    {
     "name": "stdout",
     "output_type": "stream",
     "text": [
      "Time for gpu operation :  0.0016679763793945312\n"
     ]
    }
   ],
   "source": [
    "# Let's compare operating time\n",
    "# GPU\n",
    "startTime = time.time()\n",
    "func = mod.get_function(\"transpose\")\n",
    "func(a_gpu,result_gpu, block=(16,16,1), grid =(64,4))\n",
    "consumedTime = time.time() - startTime\n",
    "print(\"Time for gpu operation : \", consumedTime)\n"
   ]
  },
  {
   "cell_type": "code",
   "execution_count": 6,
   "metadata": {},
   "outputs": [
    {
     "name": "stdout",
     "output_type": "stream",
     "text": [
      "Time for cpu operation :  0.00026702880859375\n"
     ]
    }
   ],
   "source": [
    "# CPU\n",
    "startTime = time.time()\n",
    "result_cpu = np.transpose(a)\n",
    "consumedTime = time.time() - startTime\n",
    "print(\"Time for cpu operation : \", consumedTime)"
   ]
  },
  {
   "cell_type": "code",
   "execution_count": 7,
   "metadata": {},
   "outputs": [],
   "source": [
    "# Copy the result from device to host\n",
    "aaa = np.zeros(shape=MAT_SIZE, dtype=np.float32)\n",
    "cuda.memcpy_dtoh(result, result_gpu)\n",
    "cuda.memcpy_dtoh(aaa, a_gpu)\n",
    "a_gpu.free()\n",
    "result_gpu.free()\n",
    "width.free()\n",
    "height.free()"
   ]
  },
  {
   "cell_type": "code",
   "execution_count": 10,
   "metadata": {},
   "outputs": [
    {
     "name": "stdout",
     "output_type": "stream",
     "text": [
      "Is it same? :  True\n"
     ]
    }
   ],
   "source": [
    "# Compare the results\n",
    "print(\"Is it same? : \", (result == result_cpu).all())"
   ]
  },
  {
   "cell_type": "code",
   "execution_count": 11,
   "metadata": {},
   "outputs": [
    {
     "data": {
      "text/plain": [
       "array([[0.0000e+00, 6.4000e+01, 1.2800e+02, ..., 6.5344e+04, 6.5408e+04,\n",
       "        6.5472e+04],\n",
       "       [1.0000e+00, 6.5000e+01, 1.2900e+02, ..., 6.5345e+04, 6.5409e+04,\n",
       "        6.5473e+04],\n",
       "       [2.0000e+00, 6.6000e+01, 1.3000e+02, ..., 6.5346e+04, 6.5410e+04,\n",
       "        6.5474e+04],\n",
       "       ...,\n",
       "       [6.1000e+01, 1.2500e+02, 1.8900e+02, ..., 6.5405e+04, 6.5469e+04,\n",
       "        6.5533e+04],\n",
       "       [6.2000e+01, 1.2600e+02, 1.9000e+02, ..., 6.5406e+04, 6.5470e+04,\n",
       "        6.5534e+04],\n",
       "       [6.3000e+01, 1.2700e+02, 1.9100e+02, ..., 6.5407e+04, 6.5471e+04,\n",
       "        6.5535e+04]], dtype=float32)"
      ]
     },
     "execution_count": 11,
     "metadata": {},
     "output_type": "execute_result"
    }
   ],
   "source": [
    "result_cpu"
   ]
  },
  {
   "cell_type": "code",
   "execution_count": 12,
   "metadata": {},
   "outputs": [
    {
     "data": {
      "text/plain": [
       "array([[0.0000e+00, 6.4000e+01, 1.2800e+02, ..., 6.5344e+04, 6.5408e+04,\n",
       "        6.5472e+04],\n",
       "       [1.0000e+00, 6.5000e+01, 1.2900e+02, ..., 6.5345e+04, 6.5409e+04,\n",
       "        6.5473e+04],\n",
       "       [2.0000e+00, 6.6000e+01, 1.3000e+02, ..., 6.5346e+04, 6.5410e+04,\n",
       "        6.5474e+04],\n",
       "       ...,\n",
       "       [6.1000e+01, 1.2500e+02, 1.8900e+02, ..., 6.5405e+04, 6.5469e+04,\n",
       "        6.5533e+04],\n",
       "       [6.2000e+01, 1.2600e+02, 1.9000e+02, ..., 6.5406e+04, 6.5470e+04,\n",
       "        6.5534e+04],\n",
       "       [6.3000e+01, 1.2700e+02, 1.9100e+02, ..., 6.5407e+04, 6.5471e+04,\n",
       "        6.5535e+04]], dtype=float32)"
      ]
     },
     "execution_count": 12,
     "metadata": {},
     "output_type": "execute_result"
    }
   ],
   "source": [
    "result"
   ]
  },
  {
   "cell_type": "code",
   "execution_count": null,
   "metadata": {},
   "outputs": [],
   "source": []
  }
 ],
 "metadata": {
  "kernelspec": {
   "display_name": "Python 3",
   "language": "python",
   "name": "python3"
  },
  "language_info": {
   "codemirror_mode": {
    "name": "ipython",
    "version": 3
   },
   "file_extension": ".py",
   "mimetype": "text/x-python",
   "name": "python",
   "nbconvert_exporter": "python",
   "pygments_lexer": "ipython3",
   "version": "3.6.8"
  }
 },
 "nbformat": 4,
 "nbformat_minor": 4
}
