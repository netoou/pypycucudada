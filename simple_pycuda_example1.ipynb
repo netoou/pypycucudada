{
 "cells": [
  {
   "cell_type": "code",
   "execution_count": 1,
   "metadata": {},
   "outputs": [
    {
     "name": "stdout",
     "output_type": "stream",
     "text": [
      "(2019, 1, 1)\n"
     ]
    }
   ],
   "source": [
    "import pycuda\n",
    "import pycuda.driver as cuda\n",
    "import pycuda.autoinit\n",
    "\n",
    "from pycuda.compiler import SourceModule\n",
    "\n",
    "import numpy as np\n",
    "import time\n",
    "\n",
    "print(pycuda.VERSION)"
   ]
  },
  {
   "cell_type": "code",
   "execution_count": 2,
   "metadata": {},
   "outputs": [],
   "source": [
    "# Create a tensor and copy it to gpu memory\n",
    "# Initialize a zero vector\n",
    "a = np.zeros(shape=(16,16))\n",
    "# Cast it to float32 type\n",
    "a = a.astype(np.float32)\n",
    "# Allocate memory at device\n",
    "a_gpu = cuda.mem_alloc(a.nbytes)\n",
    "# Copy the cpu vector to gpu\n",
    "cuda.memcpy_htod(a_gpu, a)"
   ]
  },
  {
   "cell_type": "code",
   "execution_count": 3,
   "metadata": {},
   "outputs": [],
   "source": [
    "# mod = SourceModule(\"\"\"\n",
    "#     __global__ void cudaTest(float *a, float *b, float *c)\n",
    "#     {\n",
    "#         // For x axis\n",
    "#         int idx = blockIdx.x * blockDim.x + threadIdx.x;\n",
    "#         // For y axis\n",
    "#         idx += (blockDim.y * gridDim.x) * (blockDim.y * blockIdx.y + threadIdx.y);\n",
    "#         // Do your own operations\n",
    "#         a[idx] += gridDim.x;\n",
    "#         b[idx] += gridDim.y;\n",
    "#         c[idx] += threadIdx.z;\n",
    "#     }\n",
    "# \"\"\")\n",
    "mod = SourceModule(\"\"\"\n",
    "    __global__ void cudaTest2D(float *a)\n",
    "    {\n",
    "        int blockId = blockIdx.x + blockIdx.y * gridDim.x;\n",
    "        int idx = blockId * (blockDim.x * blockDim.y * blockDim.z)\n",
    "        + (threadIdx.z * (blockDim.x * blockDim.y))\n",
    "        + (threadIdx.y * blockDim.x) + threadIdx.x;\n",
    "        // Do your own operations\n",
    "        a[idx] += 1;\n",
    "    }\n",
    "\"\"\")"
   ]
  },
  {
   "cell_type": "code",
   "execution_count": 4,
   "metadata": {},
   "outputs": [
    {
     "name": "stdout",
     "output_type": "stream",
     "text": [
      "Time for gpu operation :  0.0005726814270019531\n"
     ]
    }
   ],
   "source": [
    "# Let's compare operating time\n",
    "# GPU\n",
    "startTime = time.time()\n",
    "func = mod.get_function(\"cudaTest2D\")\n",
    "func(a_gpu, b_gpu, c_gpu, block=(8,2,1), grid =(2,8))\n",
    "consumedTime = time.time() - startTime\n",
    "print(\"Time for gpu operation : \", consumedTime)"
   ]
  },
  {
   "cell_type": "code",
   "execution_count": 5,
   "metadata": {},
   "outputs": [
    {
     "name": "stdout",
     "output_type": "stream",
     "text": [
      "Time for cpu operation :  0.0002925395965576172\n"
     ]
    }
   ],
   "source": [
    "# CPU\n",
    "startTime = time.time()\n",
    "aNp = a + 1\n",
    "consumedTime = time.time() - startTime\n",
    "print(\"Time for cpu operation : \", consumedTime)"
   ]
  },
  {
   "cell_type": "code",
   "execution_count": 6,
   "metadata": {},
   "outputs": [],
   "source": [
    "# Copy the result from device to host\n",
    "a_result = np.empty_like(a)\n",
    "cuda.memcpy_dtoh(a_result, a_gpu)\n",
    "a_gpu.free()"
   ]
  },
  {
   "cell_type": "raw",
   "metadata": {},
   "source": [
    "# Compare the results\n",
    "print(\"Is it same? : \", (aNp == a_result).all())"
   ]
  },
  {
   "cell_type": "code",
   "execution_count": 7,
   "metadata": {},
   "outputs": [
    {
     "name": "stdout",
     "output_type": "stream",
     "text": [
      "[[0 1 2 3 4 5 6 7 0 1 2 3 4 5 6 7]\n",
      " [0 1 2 3 4 5 6 7 0 1 2 3 4 5 6 7]\n",
      " [0 1 2 3 4 5 6 7 0 1 2 3 4 5 6 7]\n",
      " [0 1 2 3 4 5 6 7 0 1 2 3 4 5 6 7]\n",
      " [0 1 2 3 4 5 6 7 0 1 2 3 4 5 6 7]\n",
      " [0 1 2 3 4 5 6 7 0 1 2 3 4 5 6 7]\n",
      " [0 1 2 3 4 5 6 7 0 1 2 3 4 5 6 7]\n",
      " [0 1 2 3 4 5 6 7 0 1 2 3 4 5 6 7]\n",
      " [0 1 2 3 4 5 6 7 0 1 2 3 4 5 6 7]\n",
      " [0 1 2 3 4 5 6 7 0 1 2 3 4 5 6 7]\n",
      " [0 1 2 3 4 5 6 7 0 1 2 3 4 5 6 7]\n",
      " [0 1 2 3 4 5 6 7 0 1 2 3 4 5 6 7]\n",
      " [0 1 2 3 4 5 6 7 0 1 2 3 4 5 6 7]\n",
      " [0 1 2 3 4 5 6 7 0 1 2 3 4 5 6 7]\n",
      " [0 1 2 3 4 5 6 7 0 1 2 3 4 5 6 7]\n",
      " [0 1 2 3 4 5 6 7 0 1 2 3 4 5 6 7]]\n"
     ]
    }
   ],
   "source": [
    "print(a_result.astype(np.int))"
   ]
  },
  {
   "cell_type": "code",
   "execution_count": null,
   "metadata": {},
   "outputs": [],
   "source": []
  }
 ],
 "metadata": {
  "kernelspec": {
   "display_name": "Python 3",
   "language": "python",
   "name": "python3"
  },
  "language_info": {
   "codemirror_mode": {
    "name": "ipython",
    "version": 3
   },
   "file_extension": ".py",
   "mimetype": "text/x-python",
   "name": "python",
   "nbconvert_exporter": "python",
   "pygments_lexer": "ipython3",
   "version": "3.6.8"
  }
 },
 "nbformat": 4,
 "nbformat_minor": 4
}
